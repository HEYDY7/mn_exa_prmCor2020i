{
 "cells": [
  {
   "cell_type": "markdown",
   "metadata": {},
   "source": [
    "# Exámen Métodos numéricos para Físicos (2020-I)\n",
    "\n",
    "## Primera parte: Manejo básico de Python"
   ]
  },
  {
   "cell_type": "markdown",
   "metadata": {},
   "source": [
    "Del libro guía (Mark Newman, Computational Physics, 2013, University of Michigan) realizar los ejercicios:\n",
    "\n",
    "\n"
   ]
  },
  {
   "cell_type": "markdown",
   "metadata": {},
   "source": [
    "- 2.5 \n",
    "## Paso potencial cuantico\n",
    "Un problema bien conocido de la mecánica cuántica involucra una partícula de masa $m$ que encuentra un paso potencial unidimensional, como este:\n",
    " "
   ]
  },
  {
   "cell_type": "markdown",
   "metadata": {},
   "source": []
  },
  {
   "cell_type": "code",
   "execution_count": 1,
   "metadata": {},
   "outputs": [
    {
     "data": {
      "image/png": "[encoded data removed]",
      "text/plain": [
       "<IPython.core.display.Image object>"
      ]
     },
     "execution_count": 1,
     "metadata": {},
     "output_type": "execute_result"
    }
   ],
   "source": [
    "from IPython.display import Image\n",
    "Image(filename='captura.PNG')"
   ]
  },
  {
   "cell_type": "markdown",
   "metadata": {},
   "source": [
    "la partícula con energía cinética inicial $E$ y el vector de onda $k_{1}=\\sqrt{2mE/\\eta }$ ingresa desde la izquierda y encuentra un salto repentino en la energía potencial de altura V en la posición $X=0$ Al resolver la ecuación de shorodinger, se puede demostrar que cuando $E >V $la partícula puede\n",
    "- (a) pasa el paso, en cuyo caso tiene una energía cinética más baja de $E-V$ en el otro lado y un vector de onda correspondientemente más pequeño de $k_{1}=\\sqrt{2m(E-V)/\\eta }$  , \n",
    "- (b). puede reflejarse, manteniendo toda su energía cinética y un vector de onda sin cambios, pero moviéndose en la dirección opuesta. Las probabilidades $T$ y $R$ para transmisión y reflexión están dadas por:\n",
    "\n",
    "\\begin{equation}\n",
    "T=\\frac{4K_{1}K_{2}}{(K_{1}+K_{2})^{2}} \n",
    "\\end{equation}\n",
    "\\\n",
    "\\begin{equation}\n",
    "R=(\\frac{K_{1}-K_{2}}{K_{1}+K_{2}})^{2}\n",
    "\\end{equation}\n",
    "supongamos que tenemos una partícula con masa igual a la masa de electrones $ m=9.11*10^{-31}$ y energía $10eV$ encontrando un paso potencial de altura $9eV$ escriba un programa de Python para calcular e imprimir las probabilidades de transmisión y reflexión usando las fórmulas anteriores"
   ]
  },
  {
   "cell_type": "code",
   "execution_count": 44,
   "metadata": {},
   "outputs": [],
   "source": [
    "import math \n"
   ]
  },
  {
   "cell_type": "markdown",
   "metadata": {},
   "source": []
  },
  {
   "cell_type": "markdown",
   "metadata": {},
   "source": []
  },
  {
   "cell_type": "markdown",
   "metadata": {},
   "source": []
  },
  {
   "cell_type": "code",
   "execution_count": 47,
   "metadata": {},
   "outputs": [],
   "source": [
    "v=[]\n",
    "m=9.11e-31\n",
    "e=10e19\n",
    "v=9e19\n",
    "h=e/v\n",
    "k1=math.sqrt(2*m*(e/h))\n",
    "k2=math.sqrt(2*m*(e-v)/h)\n",
    "\n"
   ]
  },
  {
   "cell_type": "code",
   "execution_count": 50,
   "metadata": {},
   "outputs": [
    {
     "name": "stdout",
     "output_type": "stream",
     "text": [
      "T= 0.7301261363877615\n",
      "R= 0.09998934030175893\n"
     ]
    }
   ],
   "source": [
    "T=4*k1*k2/((k1+k2)**2)\n",
    "r=(k1-k2/k1+k2)**2\n",
    "print(\"T=\",T)\n",
    "print(\"R=\",r)"
   ]
  },
  {
   "cell_type": "markdown",
   "metadata": {},
   "source": [
    "- 2.6\n",
    "## órbitas planetarias\n",
    "la órbita en el espacio de un cuerpo alrededor de otro, como un planeta alrededor del sol, no necesita ser circular. en general toma la forma de una elipse, con el cuerpo a veces más cerca y otras más lejos. si se le da la distancia $l_{1}$ de aproximación más cercana que un planeta hace al sol, también llamada su perihelio, y su velocidad lineal $v_{1}$ en el perihelio, las otras propiedades de la órbita se pueden calcular a partir de estos dos de la siguiente manera.\n",
    "\n",
    "- a)\n",
    "La segunda ley de Kepler nos dice que la distancia $l_{2}$ y la velocidad $v_{2}$ del planeta en su punto más lejano, o afelio, satisfacen $l_{2}v_{2} = l_{1}v_{1} ...(1)$. Al mismo tiempo, la energía total. cinética más gravitacional, de un planeta con velocidad$ v$ y distancia $r$ del sol está dada por:\n",
    "\\\n",
    "\\\n",
    "\\begin{equation}\n",
    "E=\\frac{1}{2}MV^{2}-G\\frac{mM}{r},\n",
    "\\end{equation}\n",
    "\\\n",
    "donde$m$ es la masa del planeta, $M=19891*10^{30} kg$ es la masa del sol, y$G=6.6738*10^{-11}m^{3} kg^{-1}s^{-2}$  es la constante gravitacional de Newton. Dado que la energía debe conservarse, demuestre que $v_{2}$ es la raíz más pequeña de la ecuación cuadrática\n",
    "\\begin{equation}\n",
    "v_{2}^{2}-\\frac{2GM}{v_{1}l_{1}}v_{2}-[v_{2}^{1}-\\frac{2GM}{l_{1}}]=0\n",
    "\\end{equation}\n",
    "\\\n",
    "uno que tenemos $v_{2}$ podemos calcular $l_{2}$ usando la relación $l_{2} = l_{1}v_{1}v_{1}$\n",
    "\\\n",
    "\\\n",
    "- b)\n",
    "dados los valores de $v_{1}$, $l_{1}$ y $l_{2}$. otros parámetros de la órbita están dados por fórmulas simples que pueden derivarse de las leyes de Kepler y el hecho de que la órbita es una elipse:\n",
    "\\\n",
    "semieje mayor:$a=\\frac{1}{2}(l_{1}+l_{2})$\n",
    "\\\n",
    "\\\n",
    "eje semi-menor:$b=\\sqrt{l_{1}*l_{2}}$\n",
    "\\\n",
    "\\\n",
    "periodo orbital:$T=\\frac{2\\pi ab}{l_{1}v_{1}}$\n",
    "\\\n",
    "\\\n",
    "excentricidad orbital:$e=\\frac{l_{2}-l_{1}}{l_{2}+l_{1}}$\n",
    "\\\n",
    "**escriba un programa que le pida al usuario que ingrese la distancia a la distancia al sol y la velocidad en el perihelio, calcula e imprime las cantidades $l_{2}$, $v_{2}$, $T$ y $e$.**\n",
    "- C)\n",
    "prueba tu programa haciendo que calcule las propiedades de las órbitas de la Tierra (para las cuales $l_{1}=1.4710*10^{11}m$ y $v_{1}=3.0287*10^{4}$) y el cometa halley ($l_{1}=8.7830*10^{10}m$ y $v_{1}=5.4529*10^{4}$). entre otras cosas, debe descubrir que el período orbital de la tierra es de un año y el del cometa Halley es de aproximadamente 76 años."
   ]
  },
  {
   "cell_type": "code",
   "execution_count": null,
   "metadata": {},
   "outputs": [],
   "source": []
  },
  {
   "cell_type": "code",
   "execution_count": 42,
   "metadata": {},
   "outputs": [],
   "source": [
    "M =1.9891e30 #kg\n",
    "G =6.6738e-11 #(m^3/kg*s^2)\n",
    "def afelio(v1,l1):\n",
    "    M =1.9891e30 #kg\n",
    "    G =6.6738e-11 #(m^3/kg*s^2)\n",
    "    \n",
    "#por  conservacion de la energia total usando la ecuacion 1\n",
    "    x1=-((2*G*M)/(v1*l1)) #(m/s)\n",
    "    x2= -((v1**2)-((2*G*M)/(l1)))# (m^2/s^2)\n",
    "#se halla v2 por la ecuacion cuadratica de la resta \n",
    "    v2=(((-1)*x1)-sqrt((x1**2)-(4*x2)))/2 #(m/s)\n",
    "    l2=(v1*l1)/v2 #m\n",
    "    a=(1/2)*(l1+l2) #semieje mayor(m)\n",
    "    b=sqrt(l1*l2)#semeje menor (m)\n",
    "    T=(2*pi*a*b)/(v1*l1*3.1536e7)#periodo de la orbita (años)\n",
    "\n",
    "    ec=(l2-l1)/(l1+l2)\n",
    "    return(print(l2,v2,T))\n",
    "    \n",
    "\n",
    "    \n"
   ]
  },
  {
   "cell_type": "markdown",
   "metadata": {},
   "source": []
  },
  {
   "cell_type": "code",
   "execution_count": null,
   "metadata": {},
   "outputs": [],
   "source": []
  },
  {
   "cell_type": "markdown",
   "metadata": {},
   "source": [
    "## Segunda parte: Manejo básico de graficas\n",
    "\n",
    "Del libro guía (Mark Newman, Computational Physics, 2013, University of Michigan) realizar los ejercicios:\n",
    "\n",
    "- 3.2\n",
    "trazado de curvas\n",
    "Aunque la función de trazado está diseñada principalmente para trazar gráficos$ xy$ estándar, también se puede adaptar para otros tipos de trazado.\n",
    "- a). hacer un gráfico de la llamada curva deltoidea, que se define paramétricamente por las ecuaciones\n",
    "\\begin{equation}\n",
    "x=2cos\\theta +cos2\\theta ,y= 2sen\\theta -sen2\\theta \n",
    "\\end{equation}\n",
    "\\\n",
    "donde $0\\leq \\theta < 2\\pi $tome un conjunto de valores de $\\theta$ entre cero y $2\\pi$ y calcule $x$ e $y$ para cada uno de las ecuaciones anteriores, luego trace $y$ de función de $x$"
   ]
  },
  {
   "cell_type": "code",
   "execution_count": 30,
   "metadata": {},
   "outputs": [],
   "source": [
    "from pylab import imshow, gray, show\n",
    "from numpy import loadtxt\n",
    "from numpy import loadtxt, shape\n",
    "from matplotlib.pyplot import plot as plt\n",
    "from pylab import plot,xlabel,ylabel,xlim,ylim,show\n",
    "from numpy import linspace, sin , cos\n",
    "from math import pi"
   ]
  },
  {
   "cell_type": "markdown",
   "metadata": {},
   "source": []
  },
  {
   "cell_type": "code",
   "execution_count": 25,
   "metadata": {},
   "outputs": [
    {
     "data": {
      "image/png": "[encoded data removed]",
      "text/plain": [
       "<Figure size 432x288 with 1 Axes>"
      ]
     },
     "metadata": {
      "needs_background": "light"
     },
     "output_type": "display_data"
    }
   ],
   "source": [
    "x=linspace(0,10,10)\n",
    "y1=2*cos(x)+cos(2*x)\n",
    "y2=2*sin(x)-sin(2*x)\n",
    "plot(x,y1,\"k-\")\n",
    "plot(x,y2,\"b--\")\n",
    "ylim(-1.1,1.1)\n",
    "xlabel(\"x axis\")\n",
    "ylabel(\"y=2*cos(x)+cos(2*x) or y=2*sen(x)-sen(2*x)\")\n",
    "show()"
   ]
  },
  {
   "cell_type": "code",
   "execution_count": 31,
   "metadata": {},
   "outputs": [
    {
     "ename": "TypeError",
     "evalue": "can't multiply sequence by non-int of type 'float'",
     "output_type": "error",
     "traceback": [
      "\u001b[1;31m---------------------------------------------------------------------------\u001b[0m",
      "\u001b[1;31mTypeError\u001b[0m                                 Traceback (most recent call last)",
      "\u001b[1;32m<ipython-input-31-97dcdea4dc78>\u001b[0m in \u001b[0;36m<module>\u001b[1;34m\u001b[0m\n\u001b[0;32m      1\u001b[0m \u001b[0mr\u001b[0m\u001b[1;33m=\u001b[0m\u001b[1;33m[\u001b[0m\u001b[1;33m]\u001b[0m\u001b[1;33m\u001b[0m\u001b[1;33m\u001b[0m\u001b[0m\n\u001b[0;32m      2\u001b[0m \u001b[0md\u001b[0m\u001b[1;33m=\u001b[0m\u001b[1;33m[\u001b[0m\u001b[1;33m]\u001b[0m\u001b[1;33m\u001b[0m\u001b[1;33m\u001b[0m\u001b[0m\n\u001b[1;32m----> 3\u001b[1;33m \u001b[0mtheta\u001b[0m\u001b[1;33m=\u001b[0m\u001b[0md\u001b[0m\u001b[1;33m*\u001b[0m\u001b[0mpi\u001b[0m\u001b[1;33m/\u001b[0m\u001b[1;36m180\u001b[0m\u001b[1;33m\u001b[0m\u001b[1;33m\u001b[0m\u001b[0m\n\u001b[0m\u001b[0;32m      4\u001b[0m \u001b[0mx\u001b[0m\u001b[1;33m=\u001b[0m\u001b[0mr\u001b[0m\u001b[1;33m*\u001b[0m\u001b[1;33m(\u001b[0m\u001b[1;36m2\u001b[0m\u001b[1;33m*\u001b[0m\u001b[0mcos\u001b[0m\u001b[1;33m(\u001b[0m\u001b[0mtheta\u001b[0m\u001b[1;33m)\u001b[0m\u001b[1;33m+\u001b[0m\u001b[0mcos\u001b[0m\u001b[1;33m(\u001b[0m\u001b[1;36m2\u001b[0m\u001b[1;33m*\u001b[0m\u001b[0mtheta\u001b[0m\u001b[1;33m)\u001b[0m\u001b[1;33m)\u001b[0m\u001b[1;33m\u001b[0m\u001b[1;33m\u001b[0m\u001b[0m\n\u001b[0;32m      5\u001b[0m \u001b[0my\u001b[0m\u001b[1;33m=\u001b[0m\u001b[0mr\u001b[0m\u001b[1;33m*\u001b[0m\u001b[1;33m(\u001b[0m\u001b[1;36m2\u001b[0m\u001b[1;33m*\u001b[0m\u001b[0msin\u001b[0m\u001b[1;33m(\u001b[0m\u001b[0mtheta\u001b[0m\u001b[1;33m)\u001b[0m\u001b[1;33m-\u001b[0m\u001b[0msin\u001b[0m\u001b[1;33m(\u001b[0m\u001b[1;36m2\u001b[0m\u001b[1;33m*\u001b[0m\u001b[0mtheta\u001b[0m\u001b[1;33m)\u001b[0m\u001b[1;33m)\u001b[0m\u001b[1;33m\u001b[0m\u001b[1;33m\u001b[0m\u001b[0m\n",
      "\u001b[1;31mTypeError\u001b[0m: can't multiply sequence by non-int of type 'float'"
     ]
    }
   ],
   "source": [
    "r=[]\n",
    "d=[]\n",
    "theta=d*pi/180\n",
    "x=r*(2*cos(theta)+cos(2*theta))\n",
    "y=r*(2*sin(theta)-sin(2*theta))\n"
   ]
  },
  {
   "cell_type": "markdown",
   "metadata": {},
   "source": [
    "- 3.8 (El archivo *millikan.txt* necesario para realizar este ejercicio se encuentra en este mismo repositorio)\n",
    "**Ajuste de mínimos cuadrados y efecto fotoeléctrico:**\n",
    "Es una situación común en física que un experimento produce datos que se encuentran aproximadamente en una línea recta, como los puntos en esta figura:"
   ]
  },
  {
   "cell_type": "code",
   "execution_count": null,
   "metadata": {},
   "outputs": [],
   "source": [
    "from IPython.display import Image\n",
    "Image(filename='captura1.PNG')\n"
   ]
  },
  {
   "cell_type": "markdown",
   "metadata": {},
   "source": [
    "la línea continua aquí representa la forma de línea recta subyacente, que generalmente no conocemos, y los puntos que representan los datos de la medida se encuentran más o menos a lo largo de la línea, pero no caen exactamente sobre ella, típicamente debido a un error de medición.\n",
    "La línea recta puede representarse en la forma familiar $y=mx+c$y la pregunta frecuente es cuáles son los valores apropiados de la pendiente $M$ e intercepción $c$ que corresponden a los datos medidos.\n",
    "Dado que los datos no se ajustan perfectamente a una línea recta, no existe una respuesta perfecta para dicha pregunta, pero podemos encontrar la línea recta que ofrece el mejor ajuste de compromiso a los datos. La técnica estándar para hacer esto es el método de mínimos cuadrados.\n",
    "Supongamos que hacemos una conjetura sobre los parámetros $m$ y $c$ para la línea de tensión. Luego calculamos las distancias verticales entre los puntos de datos y esa línea, como se representa por las líneas verticales cortas en la figura, luego calculamos la suma de los squeares de esos distancias, que denotamos $x^{2}$ Si tenemos $N$ puntos de datos con coordenadas $(x_{i},y_{i})$ entonces $x^{2}$ viene dado por :\n",
    "\\\n",
    "\\begin{equation}\n",
    "X^{2}=\\sum_{i=1}^{N}(mx_{i}+c-y_{1})^{2}\n",
    "\\end{equation}\n",
    "\\\n",
    "El ajuste de mínimos cuadrados de la línea recta a los datos es la línea recta que minimiza esta distancia cuadrada total de los datos a la línea. encontramos el mínimo diferenciando con respecto a$ m$ y $c$ y estableciendo las derivadas a cero, lo que da:\n",
    "\\\n",
    "\\begin{equation}\n",
    "m \\sum_{i=1}^{N}x_{i}^{2}+c\\sum_{i=1}^{N}x_{i}-\\sum_{i=1}^{N}x_{i}y_{i}=0\n",
    "\\end{equation}\n",
    "\\\n",
    "\\begin{equation}\n",
    "m \\sum_{i=1}^{N}x_{i}+cN-\\sum_{i=1}^{N}y_{i}=0\n",
    "\\end{equation}\n",
    "\\\n",
    "por conveniencia, definamos las siguientes cantidades:\n",
    "\\\n",
    "\\begin{equation}\n",
    "E_{x}=\\frac{1}{N}\\sum_{i=1}^{N}x_{i},E_{y}=\\frac{1}{N}\\sum_{i=1}^{N}y_{i},E_{xx}=\\frac{1}{N}\\sum_{i=1}^{N}x_{i}^{2},E_{xy}=\\frac{1}{N}\\sum_{i=1}^{N}x_{i}y_{i}\n",
    "\\end{equation}\n",
    "\\\n",
    "en términos de los cuales se pueden escribir nuestras ecuaciones.\n",
    "\\\n",
    "\\begin{equation}\n",
    "mE_{xx}+cE_{x}=E_{xy}, mE_{x}+c=E_{y}\n",
    "\\end{equation}\n",
    "\\\n",
    "resolver estas ecuaciones simultáneamente para$ m$ y$ c$ ahora da\n",
    "\\\n",
    "\\begin{equation}\n",
    "m=\\frac{E_{xy}-E_{x}E_{y}}{E_{xx}-E_{x}^{2}}\n",
    "\\end{equation}\n",
    "\\\n",
    "Estas son las ecuaciones para el ajuste de mínimos cuadrados de una línea recta a N puntos de datos. le dicen los valores de $m$y$c$ para la línea que mejor se ajusta a los datos dados.\n",
    "- A).En los recursos en línea encontrará un archivo llamado millikan.txt. El archivo contiene dos columnas de números, que dan las coordenadas $x$ e $y$ de un conjunto de puntos de datos. Escriba un programa para leer estos puntos de datos y hacer un gráfico con un punto o círculo para cada punto.\n",
    "- B) Agregue código a su programa, antes de la parte que hace el gráfico, para calcular las cantidades $E_{x},E_{y},E_{xx}$, y$E_{xy}$  definidas anteriormente, y de ellas calcule e imprima el soplem e intercepte $c$ de la línea de mejor ajuste .\n",
    "\n",
    "- C) Ahora escriba el código que pasa a través de cada uno de los puntos de datos y evalúa la cantidad $mx_{i}+c$ utilizando las evaluaciones de myc que calculó. Guarde estos valores en una nueva matriz o lista, y el gráfico esta nueva matriz, como una línea continua, en la misma gráfica que los datos originales. Debería terminar con una gráfica de los puntos de datos más una línea recta que los atraviesa.\n",
    "- D) Los datos en el archivo millikan txt tomados de un experimento histórico de Robert Millikan que midió el efecto fotoeléctrico cuando se iluminó la luz de una longitud de onda apropiada en la superficie de un metal, los fotones en la luz pueden impactar electrones de conducción en el metal y, a veces, expulsarlos de la superficie hacia el espacio libre de arriba. La energía de un electrón expulsado es igual a la energía del fotón que lo golpeó menos una pequeña cantidad $\\phi $ llamada la función de trabajo de la superficie. La energía de un fotón es $hv$, donde $h$ es la constante de planck y $v$ es la frecuencia de la luz, y podemos medir la energía de un electrón expulsado midiendo el voltaje V que es suficiente para detener el movimiento del electrón. Luego el voltaje, la frecuencia y la función de trabajo están relacionados por ecuación \n",
    "\\\n",
    "\\begin{equation}\n",
    "V=\\frac{h}{e}v-\\phi \n",
    "\\end{equation}\n",
    "\\\n",
    "donde $ e$ es la carga en el electron, esta ecuación fue dada por primera vez por Albert Einstein en 1905.\n",
    "Los datos en fiilemillikan.txt representan las frecuencias v en hertzios (primera columna) y los voltajes $V$ en voltios (segunda columna) de las mediciones fotoeléctricas de este tipo. Usando la ecuación anterior y un programa que escribió, y dado que la carga en el electrón es $1.602 x10^{-19}C$ calcula a partir de los datos experimentales de Millikan un valor para la constante de Planck. Compare su valor con el valor aceptado de la constante, que puede encontrar en libros o en línea. Debería obtener un resultado dentro de un par de porcentaje del valor aceptado.\n",
    "Este cálculo es esencialmente el mismo que el mismo Millikan usó para determinar el valor de la constante de Planck, aunque, al carecer de una computadora, ajustó su línea de tensión a los datos a simple vista. En parte por este trabajo, Millikan recibió el premio Nobel de física en 1923."
   ]
  },
  {
   "cell_type": "code",
   "execution_count": null,
   "metadata": {},
   "outputs": [],
   "source": [
    "from pylab import imshow, gray, show\n",
    "from numpy import loadtxt\n",
    "from numpy import loadtxt, shape\n",
    "from matplotlib.pyplot import plot as plt"
   ]
  },
  {
   "cell_type": "code",
   "execution_count": 10,
   "metadata": {},
   "outputs": [],
   "source": [
    "#a.\n",
    "from pylab import scatter,xlabel,ylabel,xlim,ylim,show\n",
    "from numpy import loadtxt\n"
   ]
  },
  {
   "cell_type": "code",
   "execution_count": 11,
   "metadata": {},
   "outputs": [],
   "source": [
    "data=loadtxt(\"millikan.txt\",float)\n",
    "x=data[:,0]\n",
    "y=data[:,1]\n"
   ]
  },
  {
   "cell_type": "code",
   "execution_count": 12,
   "metadata": {},
   "outputs": [
    {
     "data": {
      "image/png": "[encoded data removed]",
      "text/plain": [
       "<Figure size 432x288 with 1 Axes>"
      ]
     },
     "metadata": {
      "needs_background": "light"
     },
     "output_type": "display_data"
    }
   ],
   "source": [
    "scatter(x,y )\n",
    "xlabel(\"x\")\n",
    "ylabel(\"y\")\n",
    "\n",
    "show()\n"
   ]
  },
  {
   "cell_type": "code",
   "execution_count": null,
   "metadata": {},
   "outputs": [],
   "source": [
    "#data = loadtxt('millikan.txt', comments=\"//\")\n",
    "#plt(data[:,0], data[:,1], 'o')\n"
   ]
  },
  {
   "cell_type": "code",
   "execution_count": 13,
   "metadata": {},
   "outputs": [],
   "source": [
    "import numpy as np \n",
    "import matplotlib.pyplot as plt"
   ]
  },
  {
   "cell_type": "code",
   "execution_count": 14,
   "metadata": {},
   "outputs": [],
   "source": [
    "n=len(x)\n",
    "sumx=sum(x)\n",
    "sumy=sum(y)\n",
    "sumx2=sum(x*x)\n",
    "sumy2=sum(y*y)\n",
    "sumxy=sum(x*y)\n",
    "promx=sumx/n\n",
    "promy=sumy/n\n"
   ]
  },
  {
   "cell_type": "code",
   "execution_count": 18,
   "metadata": {},
   "outputs": [],
   "source": [
    "m=(sumx*sumy-n*sumxy)/(sumx**2-n*sumx2)\n",
    "c=promy-m*promx\n"
   ]
  },
  {
   "cell_type": "code",
   "execution_count": 19,
   "metadata": {},
   "outputs": [
    {
     "data": {
      "image/png": "[encoded data removed]",
      "text/plain": [
       "<Figure size 432x288 with 1 Axes>"
      ]
     },
     "metadata": {
      "needs_background": "light"
     },
     "output_type": "display_data"
    }
   ],
   "source": [
    "import matplotlib.pyplot as plt\n",
    "plt.plot(x,y,'o',label='datos')\n",
    "plt.plot(x,m*x+c,label='ajuste')\n",
    "plt.xlabel('x')\n",
    "plt.ylabel('y')\n",
    "plt.grid()\n",
    "plt.legend()\n",
    "plt.show()"
   ]
  },
  {
   "cell_type": "code",
   "execution_count": 23,
   "metadata": {},
   "outputs": [
    {
     "name": "stdout",
     "output_type": "stream",
     "text": [
      "la constante de plank es... [15499.17629478 25059.70855576 27453.49428721 32350.68193155\n",
      " 36660.21108729 42064.81266892]\n"
     ]
    }
   ],
   "source": [
    "#d.\n",
    "e=1.602e19 #𝐶\n",
    "#fi toma valores muy pequeños que no voy a tener en cuenta\n",
    "# siendo V=Y ,v=x\n",
    "#me quedaria la constate de plank como\n",
    "h=(y*e)/x\n",
    "print(\"la constante de plank es...\",h)"
   ]
  },
  {
   "cell_type": "code",
   "execution_count": null,
   "metadata": {},
   "outputs": [],
   "source": [
    "\n"
   ]
  },
  {
   "cell_type": "code",
   "execution_count": null,
   "metadata": {},
   "outputs": [],
   "source": []
  },
  {
   "cell_type": "code",
   "execution_count": null,
   "metadata": {},
   "outputs": [],
   "source": []
  },
  {
   "cell_type": "markdown",
   "metadata": {},
   "source": [
    "## Criterios de evaluación\n",
    "\n",
    "Como criterios de evaluación se tendrá en cuenta:\n",
    "\n",
    "- Los comentarios que expliquen qué hace el respectivo código. Por ejemplo:\n",
    "<br><br>\n",
    "```data = loadtxt('file.dat', float) # Importe de los datos desde archivo file.dat a la variable tipo array data```\n",
    "<br><br>\n",
    "- La explicación y discución que haga a sus resultados desde el punto de vista de la Física. Usando para esto el modo texto (Markdown) del Notebook. Por ejemplo:<br> Se observa una mejoría en la identifación de los meses que presentan máximos en el conteo de manchas solares, luego de aplicar la función $Y_k$ (*Running Average*), para una ventana de 10 meses. De esta manera se puede estimar con mejor precisión el ciclo de manchas solares del Sol."
   ]
  },
  {
   "cell_type": "markdown",
   "metadata": {},
   "source": [
    "**Nota**\n",
    "\n",
    "Recuerde que Python es una herramienta y que lo importante es la Física que se puede extraer y/o corroborar de los datos."
   ]
  }
 ],
 "metadata": {
  "kernelspec": {
   "display_name": "Python 3",
   "language": "python",
   "name": "python3"
  },
  "language_info": {
   "codemirror_mode": {
    "name": "ipython",
    "version": 3
   },
   "file_extension": ".py",
   "mimetype": "text/x-python",
   "name": "python",
   "nbconvert_exporter": "python",
   "pygments_lexer": "ipython3",
   "version": "3.7.6"
  }
 },
 "nbformat": 4,
 "nbformat_minor": 2
}
